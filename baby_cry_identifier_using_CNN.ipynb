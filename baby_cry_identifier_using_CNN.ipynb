{
  "nbformat": 4,
  "nbformat_minor": 0,
  "metadata": {
    "colab": {
      "provenance": []
    },
    "kernelspec": {
      "name": "python3",
      "display_name": "Python 3"
    },
    "language_info": {
      "name": "python"
    }
  },
  "cells": [
    {
      "cell_type": "code",
      "execution_count": 2,
      "metadata": {
        "colab": {
          "base_uri": "https://localhost:8080/"
        },
        "id": "OMTGDzPP6lQJ",
        "outputId": "ac812c29-31d2-4709-9c0f-7d18d71a2881"
      },
      "outputs": [
        {
          "output_type": "stream",
          "name": "stdout",
          "text": [
            "Mounted at /content/drive\n"
          ]
        }
      ],
      "source": [
        "from google.colab import drive\n",
        "drive.mount('/content/drive')\n"
      ]
    },
    {
      "cell_type": "code",
      "source": [
        "import os\n",
        "import librosa\n",
        "import numpy as np\n",
        "from sklearn.model_selection import train_test_split\n",
        "from tensorflow.keras.utils import to_categorical\n",
        "\n",
        "# Path to your dataset folder in Google Drive\n",
        "data_dir = '/content/drive/MyDrive/donateacry_corpus/'\n",
        "\n",
        "# Function to extract MFCC features from audio files\n",
        "# Function to extract MFCC features from audio files\n",
        "# Function to extract MFCC features from audio files with fixed length\n",
        "def extract_features(file_path, mfcc=True, n_mfcc=13, max_pad_len=300):\n",
        "    audio, sr = librosa.load(file_path, sr=None)\n",
        "    if mfcc:\n",
        "        features = librosa.feature.mfcc(y=audio, sr=sr, n_mfcc=n_mfcc)\n",
        "    else:\n",
        "        features = np.abs(librosa.stft(audio))\n",
        "\n",
        "    # Pad or trim the features to a fixed length\n",
        "    if max_pad_len and features.shape[1] < max_pad_len:\n",
        "        pad_width = max_pad_len - features.shape[1]\n",
        "        features = np.pad(features, pad_width=((0, 0), (0, pad_width)), mode='constant')\n",
        "    else:\n",
        "        features = features[:, :max_pad_len]\n",
        "\n",
        "    return features\n",
        "\n",
        "\n",
        "\n",
        "# Load and preprocess the data\n",
        "def load_data_from_folder(data_folder):\n",
        "    X = []\n",
        "    y = []\n",
        "    classes = os.listdir(data_folder)\n",
        "\n",
        "    for i, _class in enumerate(classes):\n",
        "        class_folder = os.path.join(data_folder, _class)\n",
        "        for file_name in os.listdir(class_folder):\n",
        "            file_path = os.path.join(class_folder, file_name)\n",
        "            features = extract_features(file_path)\n",
        "            X.append(features)\n",
        "            y.append(i)\n",
        "\n",
        "    return np.array(X), np.array(y)\n",
        "\n",
        "# Load data from your dataset folder\n",
        "X, y = load_data_from_folder(data_dir)\n",
        "\n",
        "# Convert labels to categorical (one-hot encoded)\n",
        "y = to_categorical(y)\n",
        "\n",
        "# Split the data into train and test sets\n",
        "X_train, X_test, y_train, y_test = train_test_split(X, y, test_size=0.2, random_state=42)\n",
        "\n",
        "# Print shapes to verify\n",
        "print(\"Train data shape:\", X_train.shape)\n",
        "print(\"Train labels shape:\", y_train.shape)\n",
        "print(\"Test data shape:\", X_test.shape)\n",
        "print(\"Test labels shape:\", y_test.shape)\n"
      ],
      "metadata": {
        "colab": {
          "base_uri": "https://localhost:8080/"
        },
        "id": "-hRQdM3Z8dG-",
        "outputId": "00de1aaa-25f2-401e-ae9e-e1e2cce4a20c"
      },
      "execution_count": 8,
      "outputs": [
        {
          "output_type": "stream",
          "name": "stdout",
          "text": [
            "Train data shape: (372, 13, 300)\n",
            "Train labels shape: (372, 5)\n",
            "Test data shape: (93, 13, 300)\n",
            "Test labels shape: (93, 5)\n"
          ]
        }
      ]
    },
    {
      "cell_type": "code",
      "source": [
        "from tensorflow.keras.layers import Reshape\n",
        "\n",
        "# Reshape the input data to fit into Conv2D layer\n",
        "X_train = X_train.reshape(X_train.shape[0], X_train.shape[1], X_train.shape[2], 1)\n",
        "X_test = X_test.reshape(X_test.shape[0], X_test.shape[1], X_test.shape[2], 1)\n",
        "\n",
        "# Define the CNN model with padding\n",
        "model = Sequential()\n",
        "model.add(Conv2D(32, (3, 3), activation='relu', padding='same', input_shape=X_train.shape[1:]))\n",
        "model.add(MaxPooling2D((2, 2)))\n",
        "model.add(Conv2D(64, (3, 3), activation='relu', padding='same'))\n",
        "model.add(MaxPooling2D((2, 2)))\n",
        "model.add(Conv2D(128, (3, 3), activation='relu', padding='same'))  # Add padding here\n",
        "model.add(MaxPooling2D((2, 2)))  # Reduce pooling here\n",
        "model.add(Flatten())\n",
        "model.add(Dense(128, activation='relu'))\n",
        "model.add(Dropout(0.3))\n",
        "model.add(Dense(5, activation='softmax'))  # 5 classes for the 5 types of baby cries\n",
        "\n",
        "# Compile the model\n",
        "model.compile(optimizer='adam', loss='categorical_crossentropy', metrics=['accuracy'])\n",
        "\n",
        "# Print model summary\n",
        "model.summary()\n"
      ],
      "metadata": {
        "colab": {
          "base_uri": "https://localhost:8080/"
        },
        "id": "i2U62QG2-Quu",
        "outputId": "2cb6bff2-2ddf-480c-c883-da09e2af44b1"
      },
      "execution_count": 12,
      "outputs": [
        {
          "output_type": "stream",
          "name": "stdout",
          "text": [
            "Model: \"sequential_3\"\n",
            "_________________________________________________________________\n",
            " Layer (type)                Output Shape              Param #   \n",
            "=================================================================\n",
            " conv2d_7 (Conv2D)           (None, 13, 300, 32)       320       \n",
            "                                                                 \n",
            " max_pooling2d_4 (MaxPoolin  (None, 6, 150, 32)        0         \n",
            " g2D)                                                            \n",
            "                                                                 \n",
            " conv2d_8 (Conv2D)           (None, 6, 150, 64)        18496     \n",
            "                                                                 \n",
            " max_pooling2d_5 (MaxPoolin  (None, 3, 75, 64)         0         \n",
            " g2D)                                                            \n",
            "                                                                 \n",
            " conv2d_9 (Conv2D)           (None, 3, 75, 128)        73856     \n",
            "                                                                 \n",
            " max_pooling2d_6 (MaxPoolin  (None, 1, 37, 128)        0         \n",
            " g2D)                                                            \n",
            "                                                                 \n",
            " flatten (Flatten)           (None, 4736)              0         \n",
            "                                                                 \n",
            " dense (Dense)               (None, 128)               606336    \n",
            "                                                                 \n",
            " dropout (Dropout)           (None, 128)               0         \n",
            "                                                                 \n",
            " dense_1 (Dense)             (None, 5)                 645       \n",
            "                                                                 \n",
            "=================================================================\n",
            "Total params: 699653 (2.67 MB)\n",
            "Trainable params: 699653 (2.67 MB)\n",
            "Non-trainable params: 0 (0.00 Byte)\n",
            "_________________________________________________________________\n"
          ]
        }
      ]
    },
    {
      "cell_type": "code",
      "source": [],
      "metadata": {
        "id": "zCa_WkVmAAPg"
      },
      "execution_count": null,
      "outputs": []
    },
    {
      "cell_type": "code",
      "source": [
        "from sklearn.model_selection import train_test_split\n",
        "\n",
        "# Assuming you have already loaded and preprocessed your data (X, y)\n",
        "\n",
        "# Split the data into training and testing sets (adjust test_size as needed)\n",
        "X_train, X_test, y_train, y_test = train_test_split(X, y, test_size=0.2, random_state=42)\n",
        "\n",
        "# Print the shapes to verify the split\n",
        "print(\"Train data shape:\", X_train.shape)\n",
        "print(\"Train labels shape:\", y_train.shape)\n",
        "print(\"Test data shape:\", X_test.shape)\n",
        "print(\"Test labels shape:\", y_test.shape)\n"
      ],
      "metadata": {
        "colab": {
          "base_uri": "https://localhost:8080/"
        },
        "id": "ph512y_9_SLX",
        "outputId": "a4f05f29-17e3-4988-cccb-2c7550b18c42"
      },
      "execution_count": 13,
      "outputs": [
        {
          "output_type": "stream",
          "name": "stdout",
          "text": [
            "Train data shape: (372, 13, 300)\n",
            "Train labels shape: (372, 5)\n",
            "Test data shape: (93, 13, 300)\n",
            "Test labels shape: (93, 5)\n"
          ]
        }
      ]
    },
    {
      "cell_type": "code",
      "source": [
        "import matplotlib.pyplot as plt\n",
        "\n",
        "# Train the model\n",
        "history = model.fit(X_train, y_train, validation_data=(X_test, y_test), epochs=10, batch_size=32)\n",
        "model.save('trained_model.h5')\n",
        "\n",
        "# Plot training & validation accuracy values\n",
        "plt.plot(history.history['accuracy'])\n",
        "plt.plot(history.history['val_accuracy'])\n",
        "plt.title('Model Accuracy')\n",
        "plt.ylabel('Accuracy')\n",
        "plt.xlabel('Epoch')\n",
        "plt.legend(['Train', 'Validation'], loc='upper left')\n",
        "plt.show()\n"
      ],
      "metadata": {
        "colab": {
          "base_uri": "https://localhost:8080/",
          "height": 819
        },
        "id": "ZhCYw0oHADPo",
        "outputId": "b9e66074-a07c-46e0-b581-a9d4bc874822"
      },
      "execution_count": 24,
      "outputs": [
        {
          "output_type": "stream",
          "name": "stdout",
          "text": [
            "Epoch 1/10\n",
            "12/12 [==============================] - 8s 482ms/step - loss: 0.1171 - accuracy: 0.9677 - val_loss: 1.7181 - val_accuracy: 0.7957\n",
            "Epoch 2/10\n",
            "12/12 [==============================] - 4s 343ms/step - loss: 0.1220 - accuracy: 0.9543 - val_loss: 1.7863 - val_accuracy: 0.7957\n",
            "Epoch 3/10\n",
            "12/12 [==============================] - 3s 211ms/step - loss: 0.1049 - accuracy: 0.9651 - val_loss: 2.0274 - val_accuracy: 0.7849\n",
            "Epoch 4/10\n",
            "12/12 [==============================] - 4s 352ms/step - loss: 0.1431 - accuracy: 0.9489 - val_loss: 1.8276 - val_accuracy: 0.7957\n",
            "Epoch 5/10\n",
            "12/12 [==============================] - 4s 309ms/step - loss: 0.0900 - accuracy: 0.9758 - val_loss: 1.6121 - val_accuracy: 0.7634\n",
            "Epoch 6/10\n",
            "12/12 [==============================] - 3s 209ms/step - loss: 0.0795 - accuracy: 0.9785 - val_loss: 2.0121 - val_accuracy: 0.7634\n",
            "Epoch 7/10\n",
            "12/12 [==============================] - 3s 223ms/step - loss: 0.0792 - accuracy: 0.9677 - val_loss: 2.3043 - val_accuracy: 0.7527\n",
            "Epoch 8/10\n",
            "12/12 [==============================] - 3s 226ms/step - loss: 0.0769 - accuracy: 0.9731 - val_loss: 2.3601 - val_accuracy: 0.7742\n",
            "Epoch 9/10\n",
            "12/12 [==============================] - 3s 290ms/step - loss: 0.0367 - accuracy: 0.9973 - val_loss: 2.8416 - val_accuracy: 0.7742\n",
            "Epoch 10/10\n",
            "12/12 [==============================] - 4s 359ms/step - loss: 0.0388 - accuracy: 0.9866 - val_loss: 2.7995 - val_accuracy: 0.7742\n"
          ]
        },
        {
          "output_type": "display_data",
          "data": {
            "text/plain": [
              "<Figure size 640x480 with 1 Axes>"
            ],
            "image/png": "[encoded data removed]"
          },
          "metadata": {}
        }
      ]
    },
    {
      "cell_type": "code",
      "source": [
        "model.evaluate(X_test, y_test)\n"
      ],
      "metadata": {
        "colab": {
          "base_uri": "https://localhost:8080/"
        },
        "id": "-woORnPXAfLn",
        "outputId": "33714a3a-ad37-4678-cbb6-e04e119f0ff1"
      },
      "execution_count": 20,
      "outputs": [
        {
          "output_type": "stream",
          "name": "stdout",
          "text": [
            "3/3 [==============================] - 0s 59ms/step - loss: 1.7715 - accuracy: 0.7742\n"
          ]
        },
        {
          "output_type": "execute_result",
          "data": {
            "text/plain": [
              "[1.7714555263519287, 0.774193525314331]"
            ]
          },
          "metadata": {},
          "execution_count": 20
        }
      ]
    },
    {
      "cell_type": "code",
      "source": [
        "import librosa\n",
        "\n",
        "# Function to load and preprocess audio data\n",
        "def load_audio(file_path):\n",
        "    audio, sr = librosa.load(file_path, sr=None)\n",
        "    mfccs = librosa.feature.mfcc(y=audio, sr=sr, n_mfcc=13)\n",
        "\n",
        "    # Pad or truncate the mfccs to have the desired length (300 frames)\n",
        "    max_length = 300\n",
        "    if mfccs.shape[1] < max_length:\n",
        "        mfccs = np.pad(mfccs, ((0, 0), (0, max_length - mfccs.shape[1])), mode='constant')\n",
        "    else:\n",
        "        mfccs = mfccs[:, :max_length]\n",
        "\n",
        "    reshaped_data = mfccs.reshape(1, mfccs.shape[0], mfccs.shape[1], 1)\n",
        "    return reshaped_data\n",
        "\n",
        "\n",
        "# Load and preprocess the audio file\n",
        "new_data_path = '/content/drive/MyDrive/Infant_cry_analysis_and_classification_using_CNN-main/baby-crying-01.wav'\n",
        "new_data = load_audio(new_data_path)\n",
        "\n",
        "# Make predictions on the new data\n",
        "predictions = model.predict(new_data)\n",
        "\n",
        "# Further process or analyze the predictions as needed\n"
      ],
      "metadata": {
        "colab": {
          "base_uri": "https://localhost:8080/"
        },
        "id": "hNtCscu3BLCy",
        "outputId": "e9c49a06-f6cd-472d-b473-526d8b6d93d5"
      },
      "execution_count": 21,
      "outputs": [
        {
          "output_type": "stream",
          "name": "stdout",
          "text": [
            "1/1 [==============================] - 0s 36ms/step\n"
          ]
        }
      ]
    },
    {
      "cell_type": "code",
      "source": [
        "import librosa\n",
        "import numpy as np\n",
        "from tensorflow.keras.models import load_model\n",
        "\n",
        "# Load the input voice file and preprocess it\n",
        "def preprocess_input_voice(file_path):\n",
        "    audio, sr = librosa.load(file_path, sr=None)\n",
        "    mfccs = librosa.feature.mfcc(y=audio, sr=sr, n_mfcc=13)\n",
        "    max_length = 300  # Assuming your model expects input shape (13, 300)\n",
        "    if mfccs.shape[1] < max_length:\n",
        "        mfccs = np.pad(mfccs, ((0, 0), (0, max_length - mfccs.shape[1])), mode='constant')\n",
        "    else:\n",
        "        mfccs = mfccs[:, :max_length]\n",
        "    return mfccs.reshape(1, mfccs.shape[0], mfccs.shape[1], 1)\n",
        "\n",
        "# Load the trained model\n",
        "model = load_model('trained_model.h5')  # Replace with your model file path\n",
        "\n",
        "# Function to predict the reason for baby crying\n",
        "def predict_baby_cry_reason(file_path):\n",
        "    preprocessed_data = preprocess_input_voice(file_path)\n",
        "    predictions = model.predict(preprocessed_data)\n",
        "    # Interpret predictions (based on the output probabilities) to determine the reason\n",
        "    reasons = ['Hunger', 'Belly Pain', 'Burping', 'Discomfort', 'Tiredness']\n",
        "    predicted_reason_index = np.argmax(predictions)\n",
        "    predicted_reason = reasons[predicted_reason_index]\n",
        "    return predicted_reason\n",
        "\n",
        "# Usage example:\n",
        "input_voice_path = '/content/drive/MyDrive/Infant_cry_analysis_and_classification_using_CNN-main/baby-crying-01.wav'  # Replace with your input voice file path\n",
        "predicted_reason = predict_baby_cry_reason(input_voice_path)\n",
        "print(f\"The predicted reason for the baby crying is: {predicted_reason}\")\n"
      ],
      "metadata": {
        "colab": {
          "base_uri": "https://localhost:8080/"
        },
        "id": "qH2JNqnzCyN_",
        "outputId": "e974e3a3-268f-4975-9291-216eb85d7e5d"
      },
      "execution_count": 22,
      "outputs": [
        {
          "output_type": "stream",
          "name": "stdout",
          "text": [
            "1/1 [==============================] - 0s 149ms/step\n",
            "The predicted reason for the baby crying is: Belly Pain\n"
          ]
        }
      ]
    },
    {
      "cell_type": "code",
      "source": [
        "import matplotlib.pyplot as plt\n",
        "from sklearn.metrics import accuracy_score\n",
        "\n",
        "# Load your testing data and labels (X_test, y_test)\n",
        "\n",
        "# Evaluate the model\n",
        "loss, accuracy = model.evaluate(X_test, y_test)\n",
        "\n",
        "# Print accuracy\n",
        "print(f\"Model Accuracy: {accuracy * 100:.2f}%\")\n",
        "\n",
        "# Plotting accuracy\n",
        "labels = ['Accuracy']\n",
        "values = [accuracy * 100]\n",
        "\n",
        "plt.figure(figsize=(6, 4))\n",
        "plt.bar(labels, values, color='blue')\n",
        "plt.ylabel('Accuracy (%)')\n",
        "plt.title('Model Accuracy')\n",
        "plt.ylim(0, 100)\n",
        "\n",
        "plt.show()\n"
      ],
      "metadata": {
        "colab": {
          "base_uri": "https://localhost:8080/",
          "height": 426
        },
        "id": "KYfWFrYoD6kl",
        "outputId": "9ba2014b-2dd5-48f6-a138-19f85436e38f"
      },
      "execution_count": 23,
      "outputs": [
        {
          "output_type": "stream",
          "name": "stdout",
          "text": [
            "3/3 [==============================] - 1s 98ms/step - loss: 1.7715 - accuracy: 0.7742\n",
            "Model Accuracy: 77.42%\n"
          ]
        },
        {
          "output_type": "display_data",
          "data": {
            "text/plain": [
              "<Figure size 600x400 with 1 Axes>"
            ],
            "image/png": "[encoded data removed]"
          },
          "metadata": {}
        }
      ]
    }
  ]
}